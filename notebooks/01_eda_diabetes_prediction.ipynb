{
 "cells": [
  {
   "cell_type": "code",
   "execution_count": null,
   "id": "898b9991",
   "metadata": {},
   "outputs": [],
   "source": [
    "import pandas as pd\n",
    "import numpy as np\n",
    "import seaborn as sns\n",
    "import matplotlib.pyplot as plt\n",
    "%matplotlib inline"
   ]
  },
  {
   "cell_type": "code",
   "execution_count": null,
   "id": "2e7ccbad",
   "metadata": {},
   "outputs": [],
   "source": [
    "df = pd.read_csv('../data/raw/diabetes_prediction_dataset.csv')\n"
   ]
  },
  {
   "cell_type": "code",
   "execution_count": null,
   "id": "8f9d7d08",
   "metadata": {},
   "outputs": [],
   "source": [
    "df.head()"
   ]
  },
  {
   "cell_type": "code",
   "execution_count": null,
   "id": "f8a05218",
   "metadata": {},
   "outputs": [],
   "source": [
    "df.info()"
   ]
  },
  {
   "cell_type": "code",
   "execution_count": null,
   "id": "fdaf4e91",
   "metadata": {},
   "outputs": [],
   "source": [
    "df.describe()"
   ]
  },
  {
   "cell_type": "code",
   "execution_count": null,
   "id": "9e50f45f",
   "metadata": {},
   "outputs": [],
   "source": [
    "df.corr(numeric_only=True)"
   ]
  },
  {
   "cell_type": "code",
   "execution_count": null,
   "id": "a9ff67fe",
   "metadata": {},
   "outputs": [],
   "source": [
    "sns.heatmap(df.corr(numeric_only=True), annot=True, cmap='coolwarm', fmt='.2f')"
   ]
  },
  {
   "cell_type": "code",
   "execution_count": null,
   "id": "06a45cff",
   "metadata": {},
   "outputs": [],
   "source": [
    "sns.pairplot(df)"
   ]
  },
  {
   "cell_type": "code",
   "execution_count": null,
   "id": "58af34ca",
   "metadata": {},
   "outputs": [],
   "source": [
    "df[df['age'] < 1].count()"
   ]
  },
  {
   "cell_type": "code",
   "execution_count": null,
   "id": "75b60b78",
   "metadata": {},
   "outputs": [],
   "source": [
    "df[df['bmi'] > 80].count()"
   ]
  },
  {
   "cell_type": "code",
   "execution_count": null,
   "id": "09849fb3",
   "metadata": {},
   "outputs": [],
   "source": [
    "sns.histplot(df['age'], bins=50, kde=True)\n"
   ]
  },
  {
   "cell_type": "code",
   "execution_count": null,
   "id": "442ecf88",
   "metadata": {},
   "outputs": [],
   "source": [
    "sns.histplot(df['bmi'], bins=50, kde=True)"
   ]
  },
  {
   "cell_type": "code",
   "execution_count": null,
   "id": "75f59681",
   "metadata": {},
   "outputs": [],
   "source": [
    "df_clean = df[(df['age'] >= 1) & (df['bmi'] <= 80)]\n",
    "print(f\"Rows before cleaning: {len(df)}\")\n",
    "print(f\"Rows after cleaning: {len(df_clean)}\")\n"
   ]
  },
  {
   "cell_type": "code",
   "execution_count": null,
   "id": "2678d73f",
   "metadata": {},
   "outputs": [],
   "source": [
    "sns.histplot(df_clean['blood_glucose_level'], bins=50, kde=True)"
   ]
  },
  {
   "cell_type": "code",
   "execution_count": null,
   "id": "45193b17",
   "metadata": {},
   "outputs": [],
   "source": []
  },
  {
   "cell_type": "code",
   "execution_count": null,
   "id": "076b4de3",
   "metadata": {},
   "outputs": [],
   "source": [
    "sns.histplot(df_clean['HbA1c_level'], bins=50, kde=True)"
   ]
  },
  {
   "cell_type": "code",
   "execution_count": null,
   "id": "db9c2bca",
   "metadata": {},
   "outputs": [],
   "source": [
    "df_clean['diabetes'].value_counts()"
   ]
  },
  {
   "cell_type": "code",
   "execution_count": null,
   "id": "0261528c",
   "metadata": {},
   "outputs": [],
   "source": [
    "df_clean.to_csv('../data/processed/diabetes_prediction_clean.csv', index=False)\n"
   ]
  },
  {
   "cell_type": "code",
   "execution_count": null,
   "id": "e7d82b57",
   "metadata": {},
   "outputs": [],
   "source": []
  }
 ],
 "metadata": {
  "kernelspec": {
   "display_name": "venv",
   "language": "python",
   "name": "python3"
  },
  "language_info": {
   "codemirror_mode": {
    "name": "ipython",
    "version": 3
   },
   "file_extension": ".py",
   "mimetype": "text/x-python",
   "name": "python",
   "nbconvert_exporter": "python",
   "pygments_lexer": "ipython3",
   "version": "3.13.5"
  }
 },
 "nbformat": 4,
 "nbformat_minor": 5
}
