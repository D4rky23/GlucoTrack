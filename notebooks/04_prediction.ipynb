{
 "cells": [
  {
   "cell_type": "code",
   "execution_count": 1,
   "id": "b417bfae",
   "metadata": {},
   "outputs": [
    {
     "name": "stdout",
     "output_type": "stream",
     "text": [
      "Prediction (0=non-diabetic, 1=diabetic): 1\n",
      "Predicted probability of diabetes: 0.5568936056816312\n",
      "\n",
      "Batch predictions:\n",
      "Row 1: Prediction=0, Probability=0.227\n",
      "Row 2: Prediction=1, Probability=1.000\n"
     ]
    }
   ],
   "source": [
    "# 1. Imports\n",
    "import joblib\n",
    "import pandas as pd\n",
    "import numpy as np\n",
    "\n",
    "# 2. Load the trained model and scaler\n",
    "model = joblib.load('../models/lgbm_best_model.pkl')\n",
    "scaler = joblib.load('../models/scaler.pkl')\n",
    "\n",
    "# 3. Define new patient data (EXAMPLE)\n",
    "# IMPORTANT: include all features used at train time, including all one-hot columns!\n",
    "# For missing dummy columns, fill with 0 (the template handles this).\n",
    "new_data = {\n",
    "    'age': [60],\n",
    "    'bmi': [28.1],\n",
    "    'HbA1c_level': [6.2],\n",
    "    'blood_glucose_level': [155],\n",
    "    'hypertension': [0],\n",
    "    'heart_disease': [0],\n",
    "    # One-hot for gender (use your actual dummies from train!)\n",
    "    'gender_Male': [1],      # 1 if Male, 0 otherwise\n",
    "    'gender_Other': [0],     # 1 if Other, 0 otherwise\n",
    "    # One-hot for smoking_history (based on your train columns)\n",
    "    'smoking_history_ever': [0],\n",
    "    'smoking_history_current': [0],\n",
    "    'smoking_history_former': [1],\n",
    "    'smoking_history_never': [0],\n",
    "    'smoking_history_not current': [0],\n",
    "}\n",
    "\n",
    "# 4. Create DataFrame and align columns\n",
    "X_new = pd.DataFrame(new_data)\n",
    "\n",
    "# Asigură-te că ordinea și numele coloanelor corespund cu modelul!\n",
    "model_features = model.feature_name_\n",
    "X_new = X_new.reindex(columns=model_features, fill_value=0)\n",
    "\n",
    "# 5. Apply the scaler (only on numeric columns)\n",
    "numeric_cols = ['age', 'bmi', 'HbA1c_level', 'blood_glucose_level']\n",
    "X_new[numeric_cols] = scaler.transform(X_new[numeric_cols])\n",
    "\n",
    "# 6. Predict!\n",
    "y_pred = model.predict(X_new)\n",
    "y_proba = model.predict_proba(X_new)[:, 1]\n",
    "\n",
    "print(\"Prediction (0=non-diabetic, 1=diabetic):\", y_pred[0])\n",
    "print(\"Predicted probability of diabetes:\", y_proba[0])\n",
    "\n",
    "# 7. (Optional) Test more cases in a loop or DataFrame!\n",
    "# Example for batch predictions\n",
    "batch = pd.DataFrame([\n",
    "    {\n",
    "        'age': 40, 'bmi': 23, 'HbA1c_level': 5.6, 'blood_glucose_level': 120,\n",
    "        'hypertension': 0, 'heart_disease': 0, 'gender_Male': 0, 'gender_Other': 0,\n",
    "        'smoking_history_ever': 1, 'smoking_history_current': 0,\n",
    "        'smoking_history_former': 0, 'smoking_history_never': 0, 'smoking_history_not current': 0\n",
    "    },\n",
    "    {\n",
    "        'age': 72, 'bmi': 32, 'HbA1c_level': 7.1, 'blood_glucose_level': 200,\n",
    "        'hypertension': 1, 'heart_disease': 1, 'gender_Male': 1, 'gender_Other': 0,\n",
    "        'smoking_history_ever': 0, 'smoking_history_current': 1,\n",
    "        'smoking_history_former': 0, 'smoking_history_never': 0, 'smoking_history_not current': 0\n",
    "    }\n",
    "])\n",
    "batch = batch.reindex(columns=model_features, fill_value=0)\n",
    "batch[numeric_cols] = scaler.transform(batch[numeric_cols])\n",
    "preds = model.predict(batch)\n",
    "probas = model.predict_proba(batch)[:, 1]\n",
    "print(\"\\nBatch predictions:\")\n",
    "for i, (pred, proba) in enumerate(zip(preds, probas)):\n",
    "    print(f\"Row {i+1}: Prediction={pred}, Probability={proba:.3f}\")\n"
   ]
  },
  {
   "cell_type": "code",
   "execution_count": null,
   "id": "c8d03225",
   "metadata": {},
   "outputs": [],
   "source": []
  }
 ],
 "metadata": {
  "kernelspec": {
   "display_name": "venv",
   "language": "python",
   "name": "python3"
  },
  "language_info": {
   "codemirror_mode": {
    "name": "ipython",
    "version": 3
   },
   "file_extension": ".py",
   "mimetype": "text/x-python",
   "name": "python",
   "nbconvert_exporter": "python",
   "pygments_lexer": "ipython3",
   "version": "3.13.3"
  }
 },
 "nbformat": 4,
 "nbformat_minor": 5
}
