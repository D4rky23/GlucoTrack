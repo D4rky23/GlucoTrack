{
 "cells": [
  {
   "cell_type": "code",
   "execution_count": null,
   "id": "33226f86",
   "metadata": {},
   "outputs": [],
   "source": [
    "# 1. Import libraries\n",
    "import pandas as pd\n",
    "from sklearn.model_selection import train_test_split\n",
    "from sklearn.preprocessing import StandardScaler\n",
    "\n",
    "# 2. Load cleaned data\n",
    "df = pd.read_csv('../data/processed/diabetes_prediction_clean.csv')\n",
    "print(df.shape)\n",
    "df.head()\n",
    "\n",
    "# 3. Separate features and target\n",
    "X = df.drop('diabetes', axis=1)\n",
    "y = df['diabetes']\n",
    "\n",
    "# 4. One-Hot Encoding for categoricals\n",
    "categorical_cols = ['gender', 'smoking_history']\n",
    "X = pd.get_dummies(X, columns=categorical_cols, drop_first=True)\n",
    "\n",
    "# 5. Train-test split (stratify on y)\n",
    "X_train, X_test, y_train, y_test = train_test_split(\n",
    "    X, y, test_size=0.2, stratify=y, random_state=42\n",
    ")\n",
    "print(f\"Train shape: {X_train.shape}, Test shape: {X_test.shape}\")\n",
    "\n",
    "# 6. Align test columns (in case some categories are missing from test set)\n",
    "X_test = X_test.reindex(columns=X_train.columns, fill_value=0)\n",
    "\n",
    "# 7. Scaling numeric features\n",
    "numeric_cols = ['age', 'bmi', 'HbA1c_level', 'blood_glucose_level']\n",
    "scaler = StandardScaler()\n",
    "X_train[numeric_cols] = scaler.fit_transform(X_train[numeric_cols])\n",
    "X_test[numeric_cols] = scaler.transform(X_test[numeric_cols])\n",
    "\n",
    "# 8. Save processed data for ML\n",
    "X_train.to_csv('../data/processed/X_train_ml.csv', index=False)\n",
    "X_test.to_csv('../data/processed/X_test_ml.csv', index=False)\n",
    "y_train.to_csv('../data/processed/y_train_ml.csv', index=False)\n",
    "y_test.to_csv('../data/processed/y_test_ml.csv', index=False)\n",
    "\n",
    "print(\"Done! Data ready for modeling 🚀\")\n"
   ]
  },
  {
   "cell_type": "code",
   "execution_count": null,
   "id": "07064838",
   "metadata": {},
   "outputs": [],
   "source": [
    "import joblib\n",
    "joblib.dump(scaler, '../models/scaler.pkl')\n",
    "print(\"Scaler salvat!\")\n"
   ]
  },
  {
   "cell_type": "code",
   "execution_count": null,
   "id": "796be860",
   "metadata": {},
   "outputs": [],
   "source": []
  }
 ],
 "metadata": {
  "kernelspec": {
   "display_name": "venv",
   "language": "python",
   "name": "python3"
  },
  "language_info": {
   "codemirror_mode": {
    "name": "ipython",
    "version": 3
   },
   "file_extension": ".py",
   "mimetype": "text/x-python",
   "name": "python",
   "nbconvert_exporter": "python",
   "pygments_lexer": "ipython3",
   "version": "3.13.5"
  }
 },
 "nbformat": 4,
 "nbformat_minor": 5
}
